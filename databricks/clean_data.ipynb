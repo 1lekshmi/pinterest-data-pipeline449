{
 "cells": [
  {
   "cell_type": "markdown",
   "metadata": {
    "application/vnd.databricks.v1+cell": {
     "cellMetadata": {},
     "inputWidgets": {},
     "nuid": "a6da6702-0769-4e2b-aa1a-84d3507d62bf",
     "showTitle": false,
     "title": ""
    }
   },
   "source": [
    "## Cleaning Data"
   ]
  },
  {
   "cell_type": "markdown",
   "metadata": {
    "application/vnd.databricks.v1+cell": {
     "cellMetadata": {},
     "inputWidgets": {},
     "nuid": "4768e6d4-92e4-44cb-aa0c-fc605f12191b",
     "showTitle": false,
     "title": ""
    }
   },
   "source": [
    "### Dataframes"
   ]
  },
  {
   "cell_type": "code",
   "execution_count": 0,
   "metadata": {
    "application/vnd.databricks.v1+cell": {
     "cellMetadata": {
      "byteLimit": 2048000,
      "rowLimit": 10000
     },
     "inputWidgets": {},
     "nuid": "ff767104-1535-4c2e-812f-e5057ab86d23",
     "showTitle": false,
     "title": ""
    }
   },
   "outputs": [],
   "source": [
    "# File location and type\n",
    "# Asterisk(*) indicates reading all the content of the specified file that have .json extension\n",
    "file_location = \"/mnt/user-0a9b5b8a2ae5-bucket/topics/0a9b5b8a2ae5.{}/partition=0/*.json\" \n",
    "file_type = \"json\"\n",
    "# Ask Spark to infer the schema\n",
    "infer_schema = \"true\"\n",
    "# Read in JSONs from mounted S3 bucket\n",
    "df_pin = spark.read.format(file_type).option(\"inferSchema\", infer_schema).load(file_location.format(\"pin\"))\n",
    "df_geo = spark.read.format(file_type).option(\"inferSchema\", infer_schema).load(file_location.format(\"geo\"))\n",
    "df_user = spark.read.format(file_type).option(\"inferSchema\", infer_schema).load(file_location.format(\"user\"))\n",
    "\n",
    "display(df_pin)\n",
    "display(df_geo)\n",
    "display(df_user)"
   ]
  },
  {
   "cell_type": "markdown",
   "metadata": {
    "application/vnd.databricks.v1+cell": {
     "cellMetadata": {},
     "inputWidgets": {},
     "nuid": "25f2f4a8-a0b6-448f-b54a-176809099e5d",
     "showTitle": false,
     "title": ""
    }
   },
   "source": [
    "### Cleaning df_pin dataframe"
   ]
  },
  {
   "cell_type": "code",
   "execution_count": 0,
   "metadata": {
    "application/vnd.databricks.v1+cell": {
     "cellMetadata": {
      "byteLimit": 2048000,
      "rowLimit": 10000
     },
     "inputWidgets": {},
     "nuid": "2617b513-7501-4fcf-bd7a-5ae7ce868b59",
     "showTitle": false,
     "title": ""
    }
   },
   "outputs": [],
   "source": [
    "# remove duplicates \n",
    "df_pin = df_pin.drop_duplicates()\n",
    "\n",
    "# replacing empty entries and entries with no relevant data with None\n",
    "df_pin = df_pin.replace({\"No description available Story format\" : None}, subset=[\"description\"])\n",
    "df_pin = df_pin.replace({\"User Info Error\" : None}, subset=[\"follower_count\"])\n",
    "df_pin = df_pin.replace({\"Image src error.\" : None}, subset=[\"image_src\"])\n",
    "df_pin = df_pin.replace({\"User Info Error\" : None}, subset=[\"poster_name\"])\n",
    "df_pin = df_pin.replace({\"N,o, ,T,a,g,s, ,A,v,a,i,l,a,b,l,e\" : None}, subset=[\"tag_list\"])\n",
    "df_pin = df_pin.replace({\"No Title Data Available\" : None}, subset=[\"title\"])\n",
    "\n",
    "# transforming the follower_count column to make sure every entry is a number\n",
    "df_pin = df_pin.withColumn(\"follower_count\",regexp_replace(\"follower_count\",\"k\",\"000\"))\n",
    "df_pin = df_pin.withColumn(\"follower_count\",regexp_replace(\"follower_count\",\"M\",\"000000\"))\n",
    "\n",
    "# casting follower_count column to int\n",
    "df_pin = df_pin.withColumn(\"follower_count\", df_pin[\"follower_count\"].cast(\"int\"))\n",
    "\n",
    "# change the save_location column to only have the path\n",
    "df_pin = df_pin.withColumn(\"save_location\", regexp_replace(\"save_location\", \"Local save in \", \"\"))\n",
    "\n",
    "# rename the index column\n",
    "df_pin = df_pin.withColumnRenamed(\"index\",\"ind\")\n",
    "\n",
    "# reordering the columns\n",
    "df_pin = df_pin.select(\"ind\",\"unique_id\",\"title\",\"description\",\"follower_count\",\"poster_name\",\"tag_list\",\"is_image_or_video\",\"image_src\",\"save_location\",\"category\")\n",
    "\n",
    "display(df_pin)\n"
   ]
  },
  {
   "cell_type": "markdown",
   "metadata": {
    "application/vnd.databricks.v1+cell": {
     "cellMetadata": {},
     "inputWidgets": {},
     "nuid": "cfec2e9b-0630-4c76-9616-b018baf99ec2",
     "showTitle": false,
     "title": ""
    }
   },
   "source": [
    "### Cleaning df_geo dataframe"
   ]
  },
  {
   "cell_type": "code",
   "execution_count": 0,
   "metadata": {
    "application/vnd.databricks.v1+cell": {
     "cellMetadata": {
      "byteLimit": 2048000,
      "rowLimit": 10000
     },
     "inputWidgets": {},
     "nuid": "22c677f9-0165-4f65-9fa0-674ebb471c0d",
     "showTitle": false,
     "title": ""
    }
   },
   "outputs": [],
   "source": [
    "# remove duplicates\n",
    "df_geo = df_geo.drop_duplicates()\n",
    "\n",
    "# coordinates column\n",
    "df_geo = df_geo.withColumn(\"coordinates\", array(\"latitude\", \"longitude\"))\n",
    "\n",
    "# dropping latitude and logitude columns\n",
    "df_geo = df_geo.drop(\"latitude\",\"longitude\")\n",
    "\n",
    "# converting timestamp from a string to a timestamp\n",
    "df_geo = df_geo.withColumn(\"timestamp\", to_timestamp(\"timestamp\"))\n",
    "\n",
    "# reordering the columns\n",
    "df_geo = df_geo.select(\"ind\",\"country\",\"coordinates\",\"timestamp\")\n",
    "\n",
    "display(df_geo)\n"
   ]
  },
  {
   "cell_type": "markdown",
   "metadata": {
    "application/vnd.databricks.v1+cell": {
     "cellMetadata": {},
     "inputWidgets": {},
     "nuid": "4e32b614-a5c5-4288-b0c2-3a275e64844a",
     "showTitle": false,
     "title": ""
    }
   },
   "source": [
    "### Cleaning df_user dataframe"
   ]
  },
  {
   "cell_type": "code",
   "execution_count": 0,
   "metadata": {
    "application/vnd.databricks.v1+cell": {
     "cellMetadata": {
      "byteLimit": 2048000,
      "rowLimit": 10000
     },
     "inputWidgets": {},
     "nuid": "598c45c3-9da8-453e-8f68-43a2bf2335ec",
     "showTitle": false,
     "title": ""
    }
   },
   "outputs": [],
   "source": [
    "# removing duplicates\n",
    "df_user = df_user.drop_duplicates()\n",
    "\n",
    "# a new user_name column\n",
    "df_user = df_user.withColumn(\"user_name\", concat(\"first_name\", lit(\" \"), \"last_name\"))\n",
    "\n",
    "# dropping first_name and last_name\n",
    "df_user = df_user.drop(\"first_name\", \"last_name\")\n",
    "\n",
    "# converting date_joined to a timestamp\n",
    "df_user = df_user.withColumn(\"date_joined\", to_timestamp(\"date_joined\"))\n",
    "\n",
    "# reordering the columns\n",
    "df_user = df_user.select(\"ind\", \"user_name\", \"age\", \"date_joined\")\n",
    "\n",
    "display(df_user)\n"
   ]
  },
  {
   "cell_type": "markdown",
   "metadata": {
    "application/vnd.databricks.v1+cell": {
     "cellMetadata": {},
     "inputWidgets": {},
     "nuid": "afe70371-b0ad-4c98-af07-e12eead8e03f",
     "showTitle": false,
     "title": ""
    }
   },
   "source": [
    "---"
   ]
  },
  {
   "cell_type": "markdown",
   "metadata": {
    "application/vnd.databricks.v1+cell": {
     "cellMetadata": {},
     "inputWidgets": {},
     "nuid": "fcb5a94c-a4ac-4dc2-9ab3-e3bfa33593c5",
     "showTitle": false,
     "title": ""
    }
   },
   "source": [
    "## Data Query"
   ]
  },
  {
   "cell_type": "code",
   "execution_count": 0,
   "metadata": {
    "application/vnd.databricks.v1+cell": {
     "cellMetadata": {
      "byteLimit": 2048000,
      "rowLimit": 10000
     },
     "inputWidgets": {},
     "nuid": "4f62981b-8bad-4cd9-8d36-aec9513f724f",
     "showTitle": false,
     "title": ""
    }
   },
   "outputs": [],
   "source": [
    "# creating temporary views\n",
    "df_pin.createOrReplaceTempView(\"pin\")\n",
    "df_geo.createOrReplaceTempView(\"geo\")\n",
    "df_user.createOrReplaceTempView(\"user\")"
   ]
  },
  {
   "cell_type": "markdown",
   "metadata": {
    "application/vnd.databricks.v1+cell": {
     "cellMetadata": {},
     "inputWidgets": {},
     "nuid": "1fa5c262-1f9f-446f-a375-d6f510990bd8",
     "showTitle": false,
     "title": ""
    }
   },
   "source": [
    "#### Find the most popular category in each country"
   ]
  },
  {
   "cell_type": "code",
   "execution_count": 0,
   "metadata": {
    "application/vnd.databricks.v1+cell": {
     "cellMetadata": {
      "byteLimit": 2048000,
      "implicitDf": true,
      "rowLimit": 10000
     },
     "inputWidgets": {},
     "nuid": "9639cc93-95f9-45e9-a9bd-b074afa20afa",
     "showTitle": false,
     "title": ""
    }
   },
   "outputs": [],
   "source": [
    "%sql\n",
    "\n",
    "SELECT country, category, category_count\n",
    "FROM(\n",
    "    SELECT country, category, COUNT(category) AS category_count,\n",
    "    ROW_NUMBER() OVER(PARTITION BY country ORDER BY COUNT(category) DESC) AS row_number\n",
    "    FROM geo\n",
    "    JOIN pin ON pin.ind = geo.ind\n",
    "    GROUP BY country, category\n",
    ")\n",
    "WHERE row_number = 1;"
   ]
  },
  {
   "cell_type": "markdown",
   "metadata": {
    "application/vnd.databricks.v1+cell": {
     "cellMetadata": {},
     "inputWidgets": {},
     "nuid": "1b0d23c6-612b-4e6c-8fd3-3aaa8cf4d4b6",
     "showTitle": false,
     "title": ""
    }
   },
   "source": [
    "#### Find which was the most popular category each year"
   ]
  },
  {
   "cell_type": "code",
   "execution_count": 0,
   "metadata": {
    "application/vnd.databricks.v1+cell": {
     "cellMetadata": {
      "byteLimit": 2048000,
      "implicitDf": true,
      "rowLimit": 10000
     },
     "inputWidgets": {},
     "nuid": "38b1fd71-314a-43c8-9565-19583632350e",
     "showTitle": false,
     "title": ""
    }
   },
   "outputs": [],
   "source": [
    "%sql\n",
    "\n",
    "SELECT post_year, category, category_count FROM (\n",
    "  SELECT year(timestamp) AS post_year, category, COUNT(category) AS category_count,\n",
    "  ROW_NUMBER() OVER (PARTITION BY year(timestamp) ORDER BY COUNT(category) DESC) AS row_number\n",
    "  FROM geo \n",
    "  JOIN pin on pin.ind = geo.ind\n",
    "  GROUP BY year(timestamp), category\n",
    ")\n",
    "WHERE 2018 <= post_year AND post_year <= 2022 AND row_number = 1;\n"
   ]
  },
  {
   "cell_type": "markdown",
   "metadata": {
    "application/vnd.databricks.v1+cell": {
     "cellMetadata": {},
     "inputWidgets": {},
     "nuid": "cf0aa3dd-ec4c-416d-bcbf-667fced8243b",
     "showTitle": false,
     "title": ""
    }
   },
   "source": [
    "#### Find the user with most followers in each country"
   ]
  },
  {
   "cell_type": "markdown",
   "metadata": {
    "application/vnd.databricks.v1+cell": {
     "cellMetadata": {},
     "inputWidgets": {},
     "nuid": "b52ccc54-de72-49d7-9d60-fc033c51512f",
     "showTitle": false,
     "title": ""
    }
   },
   "source": [
    "Step 1:"
   ]
  },
  {
   "cell_type": "code",
   "execution_count": 0,
   "metadata": {
    "application/vnd.databricks.v1+cell": {
     "cellMetadata": {
      "byteLimit": 2048000,
      "implicitDf": true,
      "rowLimit": 10000
     },
     "inputWidgets": {},
     "nuid": "5ba2c77f-ff44-42e6-9cd9-2c0c521b9f89",
     "showTitle": false,
     "title": ""
    }
   },
   "outputs": [],
   "source": [
    "%sql\n",
    "\n",
    "SELECT country, poster_name, max_follower_count FROM (\n",
    "  SELECT country, poster_name, MAX(follower_count) AS max_follower_count,\n",
    "  ROW_NUMBER() OVER (PARTITION BY country ORDER BY MAX(follower_count) DESC) as row_number\n",
    "  FROM pin \n",
    "  JOIN geo ON geo.ind = pin.ind\n",
    "  GROUP BY country,poster_name\n",
    ")\n",
    "WHERE row_number = 1;"
   ]
  },
  {
   "cell_type": "markdown",
   "metadata": {
    "application/vnd.databricks.v1+cell": {
     "cellMetadata": {},
     "inputWidgets": {},
     "nuid": "cbd862b6-f92f-482d-9894-9227b05d68de",
     "showTitle": false,
     "title": ""
    }
   },
   "source": [
    "Step 2:"
   ]
  },
  {
   "cell_type": "code",
   "execution_count": 0,
   "metadata": {
    "application/vnd.databricks.v1+cell": {
     "cellMetadata": {
      "byteLimit": 2048000,
      "implicitDf": true,
      "rowLimit": 10000
     },
     "inputWidgets": {},
     "nuid": "f6640c9b-87c2-4e13-b445-20b227c7e895",
     "showTitle": false,
     "title": ""
    }
   },
   "outputs": [],
   "source": [
    "%sql\n",
    "\n",
    "SELECT country, MAX(follower_count) AS max_follower_count\n",
    "FROM pin\n",
    "JOIN geo ON geo.ind = pin.ind\n",
    "GROUP BY country\n",
    "ORDER BY MAX(follower_count) DESC\n",
    "LIMIT 1;"
   ]
  },
  {
   "cell_type": "markdown",
   "metadata": {
    "application/vnd.databricks.v1+cell": {
     "cellMetadata": {},
     "inputWidgets": {},
     "nuid": "36876440-437f-4c86-857e-f00ec76b3c6a",
     "showTitle": false,
     "title": ""
    }
   },
   "source": [
    "#### Find the most popular category for different age groups"
   ]
  },
  {
   "cell_type": "code",
   "execution_count": 0,
   "metadata": {
    "application/vnd.databricks.v1+cell": {
     "cellMetadata": {
      "byteLimit": 2048000,
      "implicitDf": true,
      "rowLimit": 10000
     },
     "inputWidgets": {},
     "nuid": "f8c677aa-08de-4823-a85a-5b8d5ed1f4b3",
     "showTitle": false,
     "title": ""
    }
   },
   "outputs": [],
   "source": [
    "%sql\n",
    "\n",
    "WITH age_table AS (\n",
    "  SELECT age, pin.category AS category\n",
    "  FROM user\n",
    "  JOIN pin ON pin.ind = user.ind\n",
    "), age_group_table AS (\n",
    "  SELECT CASE \n",
    "    WHEN 18 <= age AND age <= 24 THEN '18-24'\n",
    "    WHEN 25 <= age AND age <= 35 THEN '25-35'\n",
    "    WHEN 36 <= age AND age <= 50 THEN '36-50'\n",
    "    WHEN 50 < age THEN '50+'\n",
    "  END AS age_group,\n",
    "  category, COUNT(category) AS category_count\n",
    "  FROM age_table\n",
    "  GROUP BY age_group, category\n",
    ")\n",
    "SELECT age_group, category, category_count\n",
    "FROM (\n",
    "  SELECT  age_group, \n",
    "          category, \n",
    "          category_count,\n",
    "          ROW_NUMBER() OVER (PARTITION BY age_group ORDER BY category_count DESC) AS row_number\n",
    "  FROM \n",
    "    age_group_table\n",
    ")\n",
    "WHERE row_number = 1;"
   ]
  },
  {
   "cell_type": "code",
   "execution_count": 0,
   "metadata": {
    "application/vnd.databricks.v1+cell": {
     "cellMetadata": {
      "byteLimit": 2048000,
      "implicitDf": true,
      "rowLimit": 10000
     },
     "inputWidgets": {},
     "nuid": "7ad9e6aa-0f8e-4b61-840b-adab7dcc09e2",
     "showTitle": false,
     "title": ""
    }
   },
   "outputs": [],
   "source": [
    "%sql\n",
    "SELECT * FROM pin;\n",
    "-- SELECT * FROM geo;\n",
    "-- SELECT * FROM user;"
   ]
  }
 ],
 "metadata": {
  "application/vnd.databricks.v1+notebook": {
   "dashboards": [],
   "language": "python",
   "notebookMetadata": {
    "mostRecentlyExecutedCommandWithImplicitDF": {
     "commandId": 725279432482556,
     "dataframes": [
      "_sqldf"
     ]
    },
    "pythonIndentUnit": 4
   },
   "notebookName": "clean_data",
   "widgets": {}
  }
 },
 "nbformat": 4,
 "nbformat_minor": 0
}
