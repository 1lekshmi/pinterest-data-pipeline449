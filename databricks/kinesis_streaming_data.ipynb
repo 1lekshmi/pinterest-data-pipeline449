{
 "cells": [
  {
   "cell_type": "markdown",
   "metadata": {
    "application/vnd.databricks.v1+cell": {
     "cellMetadata": {},
     "inputWidgets": {},
     "nuid": "c28d8a11-9118-4ccc-b8c3-c1b9dc38b211",
     "showTitle": false,
     "title": ""
    }
   },
   "source": [
    "## Imports"
   ]
  },
  {
   "cell_type": "code",
   "execution_count": 0,
   "metadata": {
    "application/vnd.databricks.v1+cell": {
     "cellMetadata": {
      "byteLimit": 2048000,
      "rowLimit": 10000
     },
     "inputWidgets": {},
     "nuid": "9c9ed284-5f7f-404b-8be3-abbd6a531749",
     "showTitle": false,
     "title": ""
    }
   },
   "outputs": [],
   "source": [
    "from pyspark.sql.types import *\n",
    "from pyspark.sql.functions import *\n",
    "import urllib"
   ]
  },
  {
   "cell_type": "markdown",
   "metadata": {
    "application/vnd.databricks.v1+cell": {
     "cellMetadata": {},
     "inputWidgets": {},
     "nuid": "5f3ade8f-83da-438c-8903-9ad7ff310341",
     "showTitle": false,
     "title": ""
    }
   },
   "source": [
    "## Credentials"
   ]
  },
  {
   "cell_type": "code",
   "execution_count": 0,
   "metadata": {
    "application/vnd.databricks.v1+cell": {
     "cellMetadata": {
      "byteLimit": 2048000,
      "rowLimit": 10000
     },
     "inputWidgets": {},
     "nuid": "84d06f67-c356-49f0-87d0-5c48b59190d0",
     "showTitle": false,
     "title": ""
    }
   },
   "outputs": [],
   "source": [
    "dbutils.fs.ls(\"/FileStore/tables\")"
   ]
  },
  {
   "cell_type": "code",
   "execution_count": 0,
   "metadata": {
    "application/vnd.databricks.v1+cell": {
     "cellMetadata": {
      "byteLimit": 2048000,
      "rowLimit": 10000
     },
     "inputWidgets": {},
     "nuid": "e17bcb70-98e9-464a-afae-fd6aae6d88aa",
     "showTitle": false,
     "title": ""
    }
   },
   "outputs": [],
   "source": [
    "# Read the CSV file to spark dataframe\n",
    "aws_keys_df = spark.read.format(\"csv\")\\\n",
    ".option(\"header\", \"true\")\\\n",
    ".option(\"sep\", \",\")\\\n",
    ".load(\"/FileStore/tables/authentication_credentials.csv\")\n",
    "# Get the AWS access key and secret key from the spark dataframe\n",
    "ACCESS_KEY = aws_keys_df.select('Access key ID').collect()[0]['Access key ID']\n",
    "SECRET_KEY = aws_keys_df.select('Secret access key').collect()[0]['Secret access key']\n",
    "# Encode the secret key\n",
    "ENCODED_SECRET_KEY = urllib.parse.quote(string=SECRET_KEY, safe=\"\")"
   ]
  },
  {
   "cell_type": "markdown",
   "metadata": {
    "application/vnd.databricks.v1+cell": {
     "cellMetadata": {},
     "inputWidgets": {},
     "nuid": "2743f06a-b148-498c-8957-df2c8ee701ac",
     "showTitle": false,
     "title": ""
    }
   },
   "source": [
    "## Schemas"
   ]
  },
  {
   "cell_type": "code",
   "execution_count": 0,
   "metadata": {
    "application/vnd.databricks.v1+cell": {
     "cellMetadata": {
      "byteLimit": 2048000,
      "rowLimit": 10000
     },
     "inputWidgets": {},
     "nuid": "43aa1a1c-c761-48c9-8398-ebab401534a0",
     "showTitle": false,
     "title": ""
    }
   },
   "outputs": [],
   "source": [
    "schema_pin = StructType([\n",
    "    StructField(\"index\", IntegerType(), True),\n",
    "    StructField(\"unique_id\", StringType()),\n",
    "    StructField(\"title\", StringType()),\n",
    "    StructField(\"description\", StringType()),\n",
    "    StructField(\"poster_name\", StringType()),\n",
    "    StructField(\"follower_count\", StringType()),\n",
    "    StructField(\"tag_list\", StringType()),\n",
    "    StructField(\"is_image_or_video\", StringType()),\n",
    "    StructField(\"image_src\", StringType()),\n",
    "    StructField(\"downloaded\", IntegerType()),\n",
    "    StructField(\"save_location\", StringType()),\n",
    "    StructField(\"category\", StringType())\n",
    "])\n",
    "\n",
    "schema_geo = StructType([\n",
    "    StructField(\"ind\", IntegerType()),\n",
    "    StructField(\"timestamp\", TimestampType()),\n",
    "    StructField(\"latitude\", FloatType()),\n",
    "    StructField(\"longitude\", FloatType()),\n",
    "    StructField(\"country\", StringType())\n",
    "])\n",
    "\n",
    "schema_user = StructType([\n",
    "    StructField(\"ind\", IntegerType()),\n",
    "    StructField(\"first_name\", StringType()),\n",
    "    StructField(\"last_name\", StringType()),\n",
    "    StructField(\"age\", StringType()),\n",
    "    StructField(\"date_joined\", TimestampType())\n",
    "])"
   ]
  },
  {
   "cell_type": "markdown",
   "metadata": {
    "application/vnd.databricks.v1+cell": {
     "cellMetadata": {},
     "inputWidgets": {},
     "nuid": "7aee0a29-78fa-4f72-9aa9-d103cb4381f6",
     "showTitle": false,
     "title": ""
    }
   },
   "source": [
    "## Reading from stream"
   ]
  },
  {
   "cell_type": "code",
   "execution_count": 0,
   "metadata": {
    "application/vnd.databricks.v1+cell": {
     "cellMetadata": {
      "byteLimit": 2048000,
      "rowLimit": 10000
     },
     "inputWidgets": {},
     "nuid": "c2561c8b-d5e5-4a2c-8916-5df29fb3b538",
     "showTitle": false,
     "title": ""
    }
   },
   "outputs": [],
   "source": [
    "user_df = spark.readStream \\\n",
    "    .format('kinesis') \\\n",
    "    .option('streamName','streaming-0a9b5b8a2ae5-user') \\\n",
    "    .option('initialPosition', 'earliest') \\\n",
    "    .option('region', 'us-east-1') \\\n",
    "    .option('awsAccessKey', ACCESS_KEY) \\\n",
    "    .option('awsSecretKey', SECRET_KEY) \\\n",
    "    .load()\n",
    "\n",
    "geo_df = spark.readStream \\\n",
    "    .format('kinesis') \\\n",
    "    .option('streamName','streaming-0a9b5b8a2ae5-geo') \\\n",
    "    .option('initialPosition', 'earliest') \\\n",
    "    .option('region', 'us-east-1') \\\n",
    "    .option('awsAccessKey', ACCESS_KEY) \\\n",
    "    .option('awsSecretKey', SECRET_KEY) \\\n",
    "    .load()\n",
    "\n",
    "pin_df = spark.readStream \\\n",
    "    .format('kinesis') \\\n",
    "    .option('streamName','streaming-0a9b5b8a2ae5-pin') \\\n",
    "    .option('initialPosition', 'earliest') \\\n",
    "    .option('region', 'us-east-1') \\\n",
    "    .option('awsAccessKey', ACCESS_KEY) \\\n",
    "    .option('awsSecretKey', SECRET_KEY) \\\n",
    "    .load()\n",
    "\n",
    "user_df = user_df.selectExpr(\"CAST(data as STRING)\")\n",
    "user_df = user_df.withColumn(\"data\", from_json(user_df[\"data\"], schema_user))\n",
    "user_df = user_df.selectExpr(\"data.*\")\n",
    "\n",
    "geo_df = geo_df.selectExpr(\"CAST(data as STRING)\")\n",
    "geo_df = geo_df.withColumn(\"data\", from_json(geo_df[\"data\"], schema_geo))\n",
    "geo_df = geo_df.selectExpr(\"data.*\")\n",
    "\n",
    "pin_df = pin_df.selectExpr(\"CAST(data as STRING)\")\n",
    "pin_df = pin_df.withColumn(\"data\", from_json(pin_df[\"data\"], schema_pin))\n",
    "pin_df = pin_df.selectExpr(\"data.*\")\n",
    "\n",
    "display(user_df)"
   ]
  },
  {
   "cell_type": "markdown",
   "metadata": {
    "application/vnd.databricks.v1+cell": {
     "cellMetadata": {},
     "inputWidgets": {},
     "nuid": "0bb8a01a-9340-48e6-bdc9-b795a57d0a90",
     "showTitle": false,
     "title": ""
    }
   },
   "source": [
    "## Clean data"
   ]
  },
  {
   "cell_type": "markdown",
   "metadata": {
    "application/vnd.databricks.v1+cell": {
     "cellMetadata": {},
     "inputWidgets": {},
     "nuid": "de0e5d3c-ea3e-40c5-8637-00b5da2f66bc",
     "showTitle": false,
     "title": ""
    }
   },
   "source": [
    "#### Cleaning pin_df data"
   ]
  },
  {
   "cell_type": "code",
   "execution_count": 0,
   "metadata": {
    "application/vnd.databricks.v1+cell": {
     "cellMetadata": {
      "byteLimit": 2048000,
      "rowLimit": 10000
     },
     "inputWidgets": {},
     "nuid": "40de85d1-a2c7-41b7-b088-8149b7444f80",
     "showTitle": false,
     "title": ""
    }
   },
   "outputs": [],
   "source": [
    "# remove duplicates \n",
    "pin_df = pin_df.drop_duplicates()\n",
    "\n",
    "# replacing empty entries and entries with no relevant data with None\n",
    "pin_df = pin_df.replace({\"No description available Story format\" : None}, subset=[\"description\"])\n",
    "pin_df = pin_df.replace({\"User Info Error\" : None}, subset=[\"follower_count\"])\n",
    "pin_df = pin_df.replace({\"Image src error.\" : None}, subset=[\"image_src\"])\n",
    "pin_df = pin_df.replace({\"User Info Error\" : None}, subset=[\"poster_name\"])\n",
    "pin_df = pin_df.replace({\"N,o, ,T,a,g,s, ,A,v,a,i,l,a,b,l,e\" : None}, subset=[\"tag_list\"])\n",
    "pin_df = pin_df.replace({\"No Title Data Available\" : None}, subset=[\"title\"])\n",
    "\n",
    "# transforming the follower_count column to make sure every entry is a number\n",
    "pin_df = pin_df.withColumn(\"follower_count\",regexp_replace(\"follower_count\",\"k\",\"000\"))\n",
    "pin_df = pin_df.withColumn(\"follower_count\",regexp_replace(\"follower_count\",\"M\",\"000000\"))\n",
    "\n",
    "# casting follower_count column to int\n",
    "pin_df = pin_df.withColumn(\"follower_count\", pin_df[\"follower_count\"].cast(\"int\"))\n",
    "\n",
    "# change the save_location column to only have the path\n",
    "pin_df = pin_df.withColumn(\"save_location\", regexp_replace(\"save_location\", \"Local save in \", \"\"))\n",
    "\n",
    "# rename the index column\n",
    "pin_df = pin_df.withColumnRenamed(\"index\",\"ind\")\n",
    "\n",
    "# reordering the columns\n",
    "pin_df = pin_df.select(\"ind\",\"unique_id\",\"title\",\"description\",\"follower_count\",\"poster_name\",\"tag_list\",\"is_image_or_video\",\"image_src\",\"save_location\",\"category\")\n",
    "\n",
    "display(pin_df)\n"
   ]
  },
  {
   "cell_type": "markdown",
   "metadata": {
    "application/vnd.databricks.v1+cell": {
     "cellMetadata": {},
     "inputWidgets": {},
     "nuid": "f5930398-8206-4a1d-8648-03ef3eef60b3",
     "showTitle": false,
     "title": ""
    }
   },
   "source": [
    "#### Cleaning geo_df data"
   ]
  },
  {
   "cell_type": "code",
   "execution_count": 0,
   "metadata": {
    "application/vnd.databricks.v1+cell": {
     "cellMetadata": {
      "byteLimit": 2048000,
      "rowLimit": 10000
     },
     "inputWidgets": {},
     "nuid": "02e8ca8d-f63b-4454-8a1e-f4bc4bdad70f",
     "showTitle": false,
     "title": ""
    }
   },
   "outputs": [],
   "source": [
    "# remove duplicates\n",
    "geo_df = geo_df.drop_duplicates()\n",
    "\n",
    "# coordinates column\n",
    "geo_df = geo_df.withColumn(\"coordinates\", array(\"latitude\", \"longitude\"))\n",
    "\n",
    "# dropping latitude and logitude columns\n",
    "geo_df = geo_df.drop(\"latitude\",\"longitude\")\n",
    "\n",
    "# converting timestamp from a string to a timestamp\n",
    "geo_df = geo_df.withColumn(\"timestamp\", to_timestamp(\"timestamp\"))\n",
    "\n",
    "# reordering the columns\n",
    "geo_df = geo_df.select(\"ind\",\"country\",\"coordinates\",\"timestamp\")\n",
    "\n",
    "display(geo_df)"
   ]
  },
  {
   "cell_type": "markdown",
   "metadata": {
    "application/vnd.databricks.v1+cell": {
     "cellMetadata": {},
     "inputWidgets": {},
     "nuid": "4b6e1e82-2d1b-42db-9733-b15a01295123",
     "showTitle": false,
     "title": ""
    }
   },
   "source": [
    "#### Cleaning user_df data"
   ]
  },
  {
   "cell_type": "code",
   "execution_count": 0,
   "metadata": {
    "application/vnd.databricks.v1+cell": {
     "cellMetadata": {
      "byteLimit": 2048000,
      "rowLimit": 10000
     },
     "inputWidgets": {},
     "nuid": "59b1fbd3-542d-4b96-896c-9bc1ec7d7f0f",
     "showTitle": false,
     "title": ""
    }
   },
   "outputs": [],
   "source": [
    "# removing duplicates\n",
    "user_df = user_df.drop_duplicates()\n",
    "\n",
    "# a new user_name column\n",
    "user_df = user_df.withColumn(\"user_name\", concat(\"first_name\", lit(\" \"), \"last_name\"))\n",
    "\n",
    "# dropping first_name and last_name\n",
    "user_df = user_df.drop(\"first_name\", \"last_name\")\n",
    "\n",
    "# converting date_joined to a timestamp\n",
    "user_df = user_df.withColumn(\"date_joined\", to_timestamp(\"date_joined\"))\n",
    "\n",
    "# reordering the columns\n",
    "user_df = user_df.select(\"ind\", \"user_name\", \"age\", \"date_joined\")\n",
    "\n",
    "display(user_df)\n"
   ]
  },
  {
   "cell_type": "markdown",
   "metadata": {
    "application/vnd.databricks.v1+cell": {
     "cellMetadata": {},
     "inputWidgets": {},
     "nuid": "839eb8ac-8385-48dc-a266-f0d975ef61c2",
     "showTitle": false,
     "title": ""
    }
   },
   "source": [
    "## Writing data to Delta Tables"
   ]
  },
  {
   "cell_type": "code",
   "execution_count": 0,
   "metadata": {
    "application/vnd.databricks.v1+cell": {
     "cellMetadata": {
      "byteLimit": 2048000,
      "rowLimit": 10000
     },
     "inputWidgets": {},
     "nuid": "ed810582-57ee-4477-98d8-9cf9a18f8434",
     "showTitle": false,
     "title": ""
    }
   },
   "outputs": [],
   "source": [
    "pin_df.writeStream \\\n",
    "    .format(\"delta\") \\\n",
    "    .outputMode(\"append\") \\\n",
    "    .option(\"checkpointLocation\", \"/tmp/kinesis/0a9b5b8a2ae5_pin_table_checkpoints/\") \\\n",
    "    .table(\"0a9b5b8a2ae5_pin_table\")   \n",
    "\n",
    "user_df.writeStream \\\n",
    "    .format(\"delta\") \\\n",
    "    .outputMode(\"append\") \\\n",
    "    .option(\"checkpointLocation\", \"/tmp/kinesis/0a9b5b8a2ae5_user_table_checkpoints/\") \\\n",
    "    .table(\"0a9b5b8a2ae5_user_table\")  \n",
    "\n",
    "geo_df.writeStream \\\n",
    "    .format(\"delta\") \\\n",
    "    .outputMode(\"append\") \\\n",
    "    .option(\"checkpointLocation\", \"/tmp/kinesis/0a9b5b8a2ae5_geo_table_checkpoints/\") \\\n",
    "    .table(\"0a9b5b8a2ae5_geo_table\")   "
   ]
  },
  {
   "cell_type": "code",
   "execution_count": 0,
   "metadata": {
    "application/vnd.databricks.v1+cell": {
     "cellMetadata": {
      "byteLimit": 2048000,
      "rowLimit": 10000
     },
     "inputWidgets": {},
     "nuid": "ee5f99e2-f4f8-48a3-9ac3-f4ad1bebe7d5",
     "showTitle": false,
     "title": ""
    }
   },
   "outputs": [],
   "source": [
    "# to remove the checkpoint folder if the above block needs to be ran again\n",
    "# dbutils.fs.rm(\"/tmp/kinesis/0a9b5b8a2ae5_pin_table_checkpoints/\", True)\n",
    "# dbutils.fs.rm(\"/tmp/kinesis/0a9b5b8a2ae5_user_table_checkpoints/\", True)\n",
    "# dbutils.fs.rm(\"/tmp/kinesis/0a9b5b8a2ae5_geo_table_checkpoints/\", True)"
   ]
  }
 ],
 "metadata": {
  "application/vnd.databricks.v1+notebook": {
   "dashboards": [],
   "language": "python",
   "notebookMetadata": {
    "pythonIndentUnit": 4
   },
   "notebookName": "kinesis_streaming_data",
   "widgets": {}
  }
 },
 "nbformat": 4,
 "nbformat_minor": 0
}
